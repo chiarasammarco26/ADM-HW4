{
 "cells": [
  {
   "cell_type": "markdown",
   "id": "bc0b7f4f",
   "metadata": {},
   "source": [
    "# Algorithm Question"
   ]
  },
  {
   "cell_type": "markdown",
   "id": "6456a4ec",
   "metadata": {},
   "source": [
    "### 1"
   ]
  },
  {
   "cell_type": "code",
   "execution_count": 20,
   "id": "c2fbce98",
   "metadata": {},
   "outputs": [],
   "source": [
    "N = 5\n",
    "entries = [2,1,2,2,2,2,2] \n",
    "G = 1"
   ]
  },
  {
   "cell_type": "markdown",
   "id": "2d2ae8f3",
   "metadata": {},
   "source": [
    "First of all we put as inputs:\n",
    "- N: number of entrances, integer\n",
    "- entries: entrance used by each student in order, list\n",
    "- G: number of guards, integer"
   ]
  },
  {
   "cell_type": "markdown",
   "id": "d26752ae",
   "metadata": {},
   "source": [
    "### 2"
   ]
  },
  {
   "cell_type": "code",
   "execution_count": 21,
   "id": "46824e56",
   "metadata": {},
   "outputs": [],
   "source": [
    "from itertools import groupby\n",
    "groups = [[k, len(list(g))] for k,g in groupby(entries)]\n",
    "\n",
    "from collections import Counter\n",
    "c = Counter(x for x, c in groups for _ in range(c))"
   ]
  },
  {
   "cell_type": "markdown",
   "id": "de30585a",
   "metadata": {},
   "source": [
    "Then we create a dictionary with the Counter function to see how many times each entrance is used.\\\n",
    "This will be helpful later to see if an entrance can be \"closed\" or has to stay opened."
   ]
  },
  {
   "cell_type": "markdown",
   "id": "62abd200",
   "metadata": {},
   "source": [
    "### 3"
   ]
  },
  {
   "cell_type": "code",
   "execution_count": 22,
   "id": "d4ce54a5",
   "metadata": {},
   "outputs": [
    {
     "name": "stdout",
     "output_type": "stream",
     "text": [
      "NO\n"
     ]
    }
   ],
   "source": [
    "m = 0\n",
    "lis_m = []\n",
    "\n",
    "count = [0]*len(entries)\n",
    "final_counts = []\n",
    "\n",
    "for i in range(N+1):\n",
    "    final_counts.append(c.get(i))\n",
    "\n",
    "for i in range(len(entries)):\n",
    "    count[entries[i]] += 1\n",
    "    if count[entries[i]] == 1:\n",
    "        m += 1\n",
    "    elif count[entries[i]] == final_counts[entries[i]] or final_counts[entries[i]] == 1:\n",
    "        m -= 1\n",
    "    lis_m.append(m)\n",
    "    \n",
    "if max(lis_m) <= G:\n",
    "    print('YES')\n",
    "else:\n",
    "    print('NO')"
   ]
  },
  {
   "cell_type": "markdown",
   "id": "45263900",
   "metadata": {},
   "source": [
    "We create a count and an empty list, m and lis_m.\\\n",
    "m will track how many entrances are opened at the same time when each student enters the school. So basically, it says how many guards ARE SUPPOSED to be working for the school to be 100% safe.\\\n",
    "lis_m is the list of each m at every \"step\".\n",
    "\n",
    "We create a vector with all zeros as long as the entries list, count, and an empty list, final_counts.\\\n",
    "In count we will keep track of the students entering the school using each entrance so that, in the end, we can compare it to final_counts, in which we append the number of students who, in the end, will use that specific entrance (so how many times that entrance is in the entries list).\n",
    "\n",
    "In the second for-loop we add 1 to the count when we open the entrance and subtract 1 to the count when we close it (or if we only have one student using that specific entrance).\n",
    "We append every m to lis_m.\n",
    "\n",
    "If at at least one point of the entrances more than G guards are needed then we will get \"NO\", or else, if we always need less than G guards (or equal), then the guards are enough to satisfy our requirements and we get a \"YES\"."
   ]
  }
 ],
 "metadata": {
  "kernelspec": {
   "display_name": "Python 3 (ipykernel)",
   "language": "python",
   "name": "python3"
  },
  "language_info": {
   "codemirror_mode": {
    "name": "ipython",
    "version": 3
   },
   "file_extension": ".py",
   "mimetype": "text/x-python",
   "name": "python",
   "nbconvert_exporter": "python",
   "pygments_lexer": "ipython3",
   "version": "3.9.12"
  }
 },
 "nbformat": 4,
 "nbformat_minor": 5
}
