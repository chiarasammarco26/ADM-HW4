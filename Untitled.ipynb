{
 "cells": [
  {
   "cell_type": "code",
   "execution_count": 56,
   "id": "ac17b95c",
   "metadata": {},
   "outputs": [],
   "source": [
    "import pandas as pd\n",
    "from datetime import datetime\n",
    "from datetime import date"
   ]
  },
  {
   "cell_type": "code",
   "execution_count": 46,
   "id": "03c44ce6",
   "metadata": {},
   "outputs": [],
   "source": [
    "df = pd.read_csv('Data/bank_transactions.csv',usecols=['CustomerID','CustomerDOB','CustGender','CustLocation','CustAccountBalance'])"
   ]
  },
  {
   "cell_type": "code",
   "execution_count": 47,
   "id": "55d91e64",
   "metadata": {},
   "outputs": [],
   "source": [
    "df['CustomerDOB']= pd.to_datetime(df['CustomerDOB'])"
   ]
  },
  {
   "cell_type": "code",
   "execution_count": 48,
   "id": "06180984",
   "metadata": {},
   "outputs": [],
   "source": [
    "df.drop(df[(df['CustomerDOB'] == '1800-1-1')].index, inplace = True)"
   ]
  },
  {
   "cell_type": "code",
   "execution_count": 49,
   "id": "aba0a35d",
   "metadata": {},
   "outputs": [],
   "source": [
    "df=df.dropna()"
   ]
  },
  {
   "cell_type": "code",
   "execution_count": 57,
   "id": "94fb3d8a",
   "metadata": {},
   "outputs": [],
   "source": [
    "def age(birthdate):\n",
    "    today = date.today()\n",
    "    one_or_zero = ((today.month, today.day) < (birthdate.month, birthdate.day))\n",
    "    year_difference = today.year - birthdate.year\n",
    "    age = year_difference - one_or_zero\n",
    "    return age"
   ]
  },
  {
   "cell_type": "code",
   "execution_count": 58,
   "id": "f35ecd82",
   "metadata": {},
   "outputs": [],
   "source": [
    "df[\"CustomerDOB\"] = df['CustomerDOB'].apply(age)"
   ]
  },
  {
   "cell_type": "code",
   "execution_count": 59,
   "id": "98cedd3b",
   "metadata": {},
   "outputs": [],
   "source": [
    "df.drop(df[(df['CustomerDOB'] < 16)].index, inplace = True)"
   ]
  },
  {
   "cell_type": "code",
   "execution_count": 60,
   "id": "81cd7744",
   "metadata": {},
   "outputs": [],
   "source": [
    "df['CustGender']=df['CustGender'].apply(lambda x: 1 if (x=='M') else 0)"
   ]
  },
  {
   "cell_type": "code",
   "execution_count": 61,
   "id": "508cc0f0",
   "metadata": {},
   "outputs": [
    {
     "data": {
      "text/html": [
       "<div>\n",
       "<style scoped>\n",
       "    .dataframe tbody tr th:only-of-type {\n",
       "        vertical-align: middle;\n",
       "    }\n",
       "\n",
       "    .dataframe tbody tr th {\n",
       "        vertical-align: top;\n",
       "    }\n",
       "\n",
       "    .dataframe thead th {\n",
       "        text-align: right;\n",
       "    }\n",
       "</style>\n",
       "<table border=\"1\" class=\"dataframe\">\n",
       "  <thead>\n",
       "    <tr style=\"text-align: right;\">\n",
       "      <th></th>\n",
       "      <th>CustomerID</th>\n",
       "      <th>CustomerDOB</th>\n",
       "      <th>CustGender</th>\n",
       "      <th>CustLocation</th>\n",
       "      <th>CustAccountBalance</th>\n",
       "    </tr>\n",
       "  </thead>\n",
       "  <tbody>\n",
       "    <tr>\n",
       "      <th>0</th>\n",
       "      <td>C5841053</td>\n",
       "      <td>28</td>\n",
       "      <td>0</td>\n",
       "      <td>JAMSHEDPUR</td>\n",
       "      <td>17819.05</td>\n",
       "    </tr>\n",
       "    <tr>\n",
       "      <th>2</th>\n",
       "      <td>C4417068</td>\n",
       "      <td>26</td>\n",
       "      <td>0</td>\n",
       "      <td>MUMBAI</td>\n",
       "      <td>17874.44</td>\n",
       "    </tr>\n",
       "    <tr>\n",
       "      <th>3</th>\n",
       "      <td>C5342380</td>\n",
       "      <td>49</td>\n",
       "      <td>0</td>\n",
       "      <td>MUMBAI</td>\n",
       "      <td>866503.21</td>\n",
       "    </tr>\n",
       "    <tr>\n",
       "      <th>4</th>\n",
       "      <td>C9031234</td>\n",
       "      <td>34</td>\n",
       "      <td>0</td>\n",
       "      <td>NAVI MUMBAI</td>\n",
       "      <td>6714.43</td>\n",
       "    </tr>\n",
       "    <tr>\n",
       "      <th>5</th>\n",
       "      <td>C1536588</td>\n",
       "      <td>50</td>\n",
       "      <td>0</td>\n",
       "      <td>ITANAGAR</td>\n",
       "      <td>53609.20</td>\n",
       "    </tr>\n",
       "    <tr>\n",
       "      <th>...</th>\n",
       "      <td>...</td>\n",
       "      <td>...</td>\n",
       "      <td>...</td>\n",
       "      <td>...</td>\n",
       "      <td>...</td>\n",
       "    </tr>\n",
       "    <tr>\n",
       "      <th>1048562</th>\n",
       "      <td>C8020229</td>\n",
       "      <td>32</td>\n",
       "      <td>0</td>\n",
       "      <td>NEW DELHI</td>\n",
       "      <td>7635.19</td>\n",
       "    </tr>\n",
       "    <tr>\n",
       "      <th>1048563</th>\n",
       "      <td>C6459278</td>\n",
       "      <td>30</td>\n",
       "      <td>0</td>\n",
       "      <td>NASHIK</td>\n",
       "      <td>27311.42</td>\n",
       "    </tr>\n",
       "    <tr>\n",
       "      <th>1048564</th>\n",
       "      <td>C6412354</td>\n",
       "      <td>33</td>\n",
       "      <td>0</td>\n",
       "      <td>HYDERABAD</td>\n",
       "      <td>221757.06</td>\n",
       "    </tr>\n",
       "    <tr>\n",
       "      <th>1048565</th>\n",
       "      <td>C6420483</td>\n",
       "      <td>44</td>\n",
       "      <td>0</td>\n",
       "      <td>VISAKHAPATNAM</td>\n",
       "      <td>10117.87</td>\n",
       "    </tr>\n",
       "    <tr>\n",
       "      <th>1048566</th>\n",
       "      <td>C8337524</td>\n",
       "      <td>38</td>\n",
       "      <td>0</td>\n",
       "      <td>PUNE</td>\n",
       "      <td>75734.42</td>\n",
       "    </tr>\n",
       "  </tbody>\n",
       "</table>\n",
       "<p>910376 rows × 5 columns</p>\n",
       "</div>"
      ],
      "text/plain": [
       "        CustomerID  CustomerDOB  CustGender   CustLocation  CustAccountBalance\n",
       "0         C5841053           28           0     JAMSHEDPUR            17819.05\n",
       "2         C4417068           26           0         MUMBAI            17874.44\n",
       "3         C5342380           49           0         MUMBAI           866503.21\n",
       "4         C9031234           34           0    NAVI MUMBAI             6714.43\n",
       "5         C1536588           50           0       ITANAGAR            53609.20\n",
       "...            ...          ...         ...            ...                 ...\n",
       "1048562   C8020229           32           0      NEW DELHI             7635.19\n",
       "1048563   C6459278           30           0         NASHIK            27311.42\n",
       "1048564   C6412354           33           0      HYDERABAD           221757.06\n",
       "1048565   C6420483           44           0  VISAKHAPATNAM            10117.87\n",
       "1048566   C8337524           38           0           PUNE            75734.42\n",
       "\n",
       "[910376 rows x 5 columns]"
      ]
     },
     "execution_count": 61,
     "metadata": {},
     "output_type": "execute_result"
    }
   ],
   "source": [
    "df"
   ]
  },
  {
   "cell_type": "code",
   "execution_count": null,
   "id": "f04e3bed",
   "metadata": {},
   "outputs": [],
   "source": []
  },
  {
   "cell_type": "code",
   "execution_count": null,
   "id": "65a9b538",
   "metadata": {},
   "outputs": [],
   "source": []
  }
 ],
 "metadata": {
  "kernelspec": {
   "display_name": "Python 3 (ipykernel)",
   "language": "python",
   "name": "python3"
  },
  "language_info": {
   "codemirror_mode": {
    "name": "ipython",
    "version": 3
   },
   "file_extension": ".py",
   "mimetype": "text/x-python",
   "name": "python",
   "nbconvert_exporter": "python",
   "pygments_lexer": "ipython3",
   "version": "3.9.12"
  }
 },
 "nbformat": 4,
 "nbformat_minor": 5
}
